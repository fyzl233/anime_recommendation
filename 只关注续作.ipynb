{
 "cells": [
  {
   "cell_type": "code",
   "execution_count": 1,
   "id": "aa4ffa33-a4bd-4cab-86af-35ef6758aa1c",
   "metadata": {},
   "outputs": [],
   "source": [
    "#  模块导入\n",
    "import numpy as np # numpy 数组\n",
    "import pandas as pd # pandas 数据框\n",
    "import openpyxl # 用来打开xlsx文件的引擎\n",
    "from sklearn.cluster import KMeans # Kmeans聚类\n",
    "import matplotlib.pyplot as plt # 数据可视化\n",
    "from collections import Counter # 计数器\n",
    "import matplotlib.font_manager as mfm # 设置字体\n",
    "import math # 数学\n",
    "import json # json\n",
    "from fastnode2vec import Graph, Node2Vec # deepwalk/node2vec\n",
    "'''\n",
    "deepwalk/node2vec\n",
    "pip install fastnode2vec\n",
    "https://pypi.org/project/fastnode2vec/0.0.5/\n",
    "因为这个包是针对旧版gensim写的，所以在安装完后可能需要进入fastnode2vec/node2vec.py，\n",
    "将27~35行的\n",
    "super().__init__(\n",
    "            sg=1,\n",
    "            iter=1,\n",
    "            size=dim,\n",
    "            window=context,\n",
    "            min_count=1,\n",
    "            workers=workers,\n",
    "            batch_words=batch_words,\n",
    "            **args,\n",
    "        )\n",
    "改为\n",
    "super().__init__(\n",
    "            sg=1,\n",
    "            epochs=1, # 这里需要修改变量名\n",
    "            vector_size=dim, # 这里需要修改变量名\n",
    "            window=context,\n",
    "            min_count=1,\n",
    "            workers=workers,\n",
    "            batch_words=batch_words,\n",
    "            **args,\n",
    "        )\n",
    "这是因为gensim包在升级的过程中将Word2Vec的API进行了调整。\n",
    "'''\n",
    "pass\n",
    "from sklearn import metrics # 计算指标\n",
    "import torch # pytorch 深度学习框架\n",
    "import torch.nn as nn # 神经网络层\n",
    "import torch.nn.functional as F # 常用函数\n",
    "import dgl # 图神经网络框架\n",
    "import matplotlib.pyplot as plt # 数据可视化\n",
    "from sklearn.metrics import auc,roc_curve # 用于计算auc和绘画roc曲线\n",
    "from collections import defaultdict # 可以让python字典在创建的时候让字典的value默认为某个数据结构\n",
    "import matplotlib.font_manager as mfm # 设置字体\n",
    "from sklearn.manifold import TSNE # 高维数据可视化\n",
    "\n",
    "device = torch.device(\"cuda:0\") # 指定用于训练的GPU\n",
    "plt.style.use('ggplot') # 可视化使用ggplot风格"
   ]
  },
  {
   "cell_type": "code",
   "execution_count": 2,
   "id": "91d03853-8951-4b71-9247-dba656c17899",
   "metadata": {},
   "outputs": [],
   "source": [
    "# 数据读取\n",
    "data = pd.read_excel(\"anime_information_20220416.xlsx\",engine=\"openpyxl\") # 1900~2021年的动画\n",
    "anime_median = data[\"动画评分\"].median() # 计算动画评分的中位数"
   ]
  },
  {
   "cell_type": "code",
   "execution_count": 3,
   "id": "996e2b90-0039-4dd0-980a-3efcb7a3c675",
   "metadata": {},
   "outputs": [
    {
     "data": {
      "image/png": "[encoded data removed]",
      "text/plain": [
       "<Figure size 921.6x518.4 with 1 Axes>"
      ]
     },
     "metadata": {
      "needs_background": "light"
     },
     "output_type": "display_data"
    }
   ],
   "source": [
    "# 绘画1900年~2021年评分的直方图\n",
    "title_prop = mfm.FontProperties(fname=\"msyhbd.ttc\",size=20) # 指定标题的字体\n",
    "label_prop = mfm.FontProperties(fname=\"msyhbd.ttc\",size=18) # 指定标签的字体\n",
    "fig, axes = plt.subplots(1,1, figsize=(12.8,7.2)) # 安排好画布\n",
    "axes.hist(data[\"动画评分\"],bins=np.arange(2,10,0.2),color=\"skyblue\") # 绘画直方图\n",
    "plt.xlabel(\"动画评分\",font=label_prop,color=\"black\") # x轴文本\n",
    "plt.ylabel(\"频数\",font=label_prop,color=\"black\") # y轴文本\n",
    "plt.xticks(range(2,11),range(2,11),size=14) # x轴刻度设置\n",
    "plt.yticks(size=14) # y轴刻度设置\n",
    "plt.title(\"动画评分直方图\",font=title_prop,color=\"black\") # 设置标题\n",
    "plt.show() # 展示结果"
   ]
  },
  {
   "cell_type": "code",
   "execution_count": 4,
   "id": "6eff78b1-ce63-4597-b6f2-adf30835525e",
   "metadata": {},
   "outputs": [],
   "source": [
    "data_new = pd.read_excel(\"anime_information_2022_from_4_to_9_20220416.xlsx\",engine=\"openpyxl\") # 2022年4月~2022年9月的动画\n",
    "data_new[\"动画评分\"] = anime_median\n",
    "data = pd.concat([data,data_new]).reset_index(drop=True) # 将两个数据框合并"
   ]
  },
  {
   "cell_type": "code",
   "execution_count": 5,
   "id": "3784ab25-5ca8-4924-ac83-9b584042acf0",
   "metadata": {},
   "outputs": [
    {
     "data": {
      "text/plain": [
       "动画ID                                                160209\n",
       "动画名                                                  你的名字。\n",
       "动画年份                                                  2016\n",
       "动画评分                                               7.99982\n",
       "评分人数                                                 11229\n",
       "想看人数                                                   509\n",
       "原作评分                                                     0\n",
       "导演标准分                                             0.771716\n",
       "编剧标准分                                             0.771716\n",
       "原创                                                       1\n",
       "小说改                                                      0\n",
       "漫画改                                                      0\n",
       "游戏改                                                      0\n",
       "GAL改                                                     0\n",
       "TV                                                       0\n",
       "WEB                                                      0\n",
       "OVA                                                      0\n",
       "剧场版                                                      1\n",
       "动画标签     ['新海诚', '剧场版', '恋爱', '2016', '君の名は。', '原创', '动...\n",
       "导演                                                 ['新海诚']\n",
       "编剧                                                 ['新海诚']\n",
       "简介       　　在每千年回归一次的彗星造访过一个月之后的日本。<br />\\n\\n　　某个深山的乡下小镇...\n",
       "前作                                                     NaN\n",
       "前作评分                                                     0\n",
       "是否有前作                                                    0\n",
       "Name: 3162, dtype: object"
      ]
     },
     "execution_count": 5,
     "metadata": {},
     "output_type": "execute_result"
    }
   ],
   "source": [
    "data.loc[np.where(data[\"动画名\"]==\"你的名字。\")[0][0],:] # 看一下数据格式"
   ]
  },
  {
   "cell_type": "code",
   "execution_count": 6,
   "id": "07de1456-702d-489f-b7dc-0c59cca008ee",
   "metadata": {},
   "outputs": [],
   "source": [
    "def decoder(x):\n",
    "    # 输入 x 字符串\n",
    "    # 输出 x 列表\n",
    "    # 将以一定方法存储的字符串转化为python列表\n",
    "    if x == '[]':\n",
    "        return []\n",
    "    else:\n",
    "        return x[2:-2].split(\"\\', \\'\")"
   ]
  },
  {
   "cell_type": "code",
   "execution_count": 7,
   "id": "0f285974-7230-4c75-be62-707333411e7d",
   "metadata": {},
   "outputs": [],
   "source": [
    "data[\"导演\"] = data[\"导演\"].apply(decoder) # 将字符串转化为列表\n",
    "data[\"编剧\"] = data[\"编剧\"].apply(decoder) # 将字符串转化为列表"
   ]
  },
  {
   "cell_type": "code",
   "execution_count": 8,
   "id": "5f7d32ec-0e92-4602-ab2c-ae6b0b8bcbf8",
   "metadata": {},
   "outputs": [],
   "source": [
    "staff_work_dict = defaultdict(list) # dict[str(制作人员名),list[str(动画名)]]\n",
    "for i in range(len(data)):\n",
    "    for column in [\"导演\",\"编剧\"]:\n",
    "        for staff in data[column][i]:\n",
    "            staff_work_dict[staff].append(data[\"动画名\"][i])\n",
    "\n",
    "for k,v in staff_work_dict.items():\n",
    "    staff_work_dict[k] = list(set(v)) # 去重"
   ]
  },
  {
   "cell_type": "code",
   "execution_count": 9,
   "id": "6a49fea8-97d3-4c89-ab26-848b4b696484",
   "metadata": {},
   "outputs": [],
   "source": [
    "# 入度归一化\n",
    "anime_weight = {} # 目标节点为某部动画时，应该具有的权重 dict[str(动画名),int(权重)]\n",
    "for i in range(len(data)):\n",
    "    temp_weight = 0\n",
    "    for column in [\"导演\",\"编剧\"]:\n",
    "        for staff in data[column][i]:\n",
    "            temp_weight += len(staff_work_dict[staff]) - 1\n",
    "    if temp_weight != 0:\n",
    "        anime_weight[data[\"动画名\"][i]] = 1 / temp_weight\n",
    "    else:\n",
    "        anime_weight[data[\"动画名\"][i]] = 0"
   ]
  },
  {
   "cell_type": "code",
   "execution_count": 10,
   "id": "a348b5ea-bd3b-4b70-8fe3-22fe363ca396",
   "metadata": {},
   "outputs": [
    {
     "data": {
      "text/plain": [
       "[('铁扇公主', '大闹天宫', 0.5),\n",
       " ('铁扇公主', '人参娃娃', 0.3333333333333333),\n",
       " ('神笔', '阿凡提的故事', 0.4),\n",
       " ('大闹天宫', '铁扇公主', 1.0),\n",
       " ('没头脑和不高兴', '半夜鸡叫', 0.5)]"
      ]
     },
     "execution_count": 10,
     "metadata": {},
     "output_type": "execute_result"
    }
   ],
   "source": [
    "anime_edge_dict = {anime:{} for anime in data[\"动画名\"]} # dict[str(源动画名),dict[str(目标动画名),int(权重)]] 存储图以及权重\n",
    "for i in range(len(data)):\n",
    "    for column in [\"导演\",\"编剧\"]:\n",
    "        for staff in data[column][i]:\n",
    "            for j in range(len(staff_work_dict[staff])):\n",
    "                if staff_work_dict[staff][j] != data[\"动画名\"][i]:\n",
    "                    source_anime = data[\"动画名\"][i]\n",
    "                    target_anime = staff_work_dict[staff][j]\n",
    "                    if target_anime not in anime_edge_dict[source_anime]:\n",
    "                        anime_edge_dict[source_anime][target_anime] = anime_weight[target_anime]\n",
    "                    else:\n",
    "                        anime_edge_dict[source_anime][target_anime] += anime_weight[target_anime]\n",
    "edge_list = []\n",
    "for k1,v1 in anime_edge_dict.items():\n",
    "    for k2,v2 in v1.items():\n",
    "        edge_list.append((k1,k2,v2))\n",
    "edge_list[0:5]"
   ]
  },
  {
   "cell_type": "raw",
   "id": "57790a49-c9b6-4c04-9ee3-2af0c2944705",
   "metadata": {},
   "source": [
    "graph = Graph(edge_list,directed=True, weighted=True) # 按照要求准备好有向带权图"
   ]
  },
  {
   "cell_type": "raw",
   "id": "6122779a-332c-4362-bbe2-609769776179",
   "metadata": {},
   "source": [
    "# 训练\n",
    "embedding_dim = 128 # 嵌入维度\n",
    "n2v = Node2Vec(graph, dim=embedding_dim, walk_length=100, context=5, p=1, q=1, workers=8)\n",
    "'''\n",
    "dim 嵌入维度\n",
    "walk_length 每次随机游走要经过多少个节点\n",
    "context skipgram算法中，尝试用中间节点来预测周围2*context个节点\n",
    "p node2vec中的参数，该值越小，越鼓励BFS（广度优先搜索）\n",
    "q node2vec中的参数，该值越小，越鼓励DFS（深度优先搜索）\n",
    "'''\n",
    "n2v.train(epochs=300) # 训练300个epoch\n",
    "\n",
    "# 读取结果\n",
    "anime_embed_vectors = np.array([n2v.wv[anime] if anime in n2v.wv else np.zeros(embedding_dim,dtype=np.float32) for anime in data[\"动画名\"]],dtype=np.float32)"
   ]
  },
  {
   "cell_type": "raw",
   "id": "b4b69554-a02e-4f99-a7d4-eb8d607b55dd",
   "metadata": {},
   "source": [
    "n2v.wv.most_similar('凉宫春日的忧郁', topn=10)"
   ]
  },
  {
   "cell_type": "raw",
   "id": "d94c23ec-0748-4199-89a9-58b35042415e",
   "metadata": {},
   "source": [
    "n2v.wv.most_similar('大闹天宫', topn=10)"
   ]
  },
  {
   "cell_type": "raw",
   "id": "5d0c672c-e032-4462-909c-dda73cdf62d1",
   "metadata": {},
   "source": [
    "# tsne - 高维数据可视化\n",
    "# 将高维数据降至两维，观察状况，这里是将动画的低维表示降到了两维\n",
    "tsne = TSNE(n_components=2,init=\"pca\") # 用PCA初始化\n",
    "tsne_data = tsne.fit_transform(anime_embed_vectors)\n",
    "plt.figure(figsize=(12.8,7.2))\n",
    "plt.scatter(tsne_data[:, 0], tsne_data[:, 1], s = 2)\n",
    "plt.show()"
   ]
  },
  {
   "cell_type": "code",
   "execution_count": 11,
   "id": "38fd8b3a-e59e-4433-b055-308c520960cd",
   "metadata": {},
   "outputs": [],
   "source": [
    "val_year = 2021 # 确定用于建立验证集的年份\n",
    "test_year = 2021 # 确定用于建立测试集的年份\n",
    "predict_year = 2022 # 用于预测的年份"
   ]
  },
  {
   "cell_type": "code",
   "execution_count": 12,
   "id": "031b75f3-2973-4781-84ed-4e817df81404",
   "metadata": {},
   "outputs": [],
   "source": [
    "# 设定用于训练，验证，测试的nid\n",
    "# 比如需要训练的节点是[0,2,3,4,5,...]\n",
    "train_nids = torch.tensor(np.where(np.logical_and(data[\"动画年份\"] < val_year,data[\"是否有前作\"] == 1))[0],dtype=torch.int32)\n",
    "val_nids = torch.tensor(np.where(np.logical_and(data[\"动画年份\"] == val_year,data[\"是否有前作\"] == 1))[0],dtype=torch.int32)\n",
    "test_nids = torch.tensor(np.where(np.logical_and(data[\"动画年份\"] == test_year,data[\"是否有前作\"] == 1))[0],dtype=torch.int32)\n",
    "final_nids = torch.tensor(np.where(np.logical_and(data[\"动画年份\"] == predict_year,data[\"是否有前作\"] == 1))[0],dtype=torch.int32) # 取2022年4~9月的动画，进行预测"
   ]
  },
  {
   "cell_type": "code",
   "execution_count": 13,
   "id": "d35c27b4-1a74-4ed2-8183-18ad8b22bea0",
   "metadata": {},
   "outputs": [],
   "source": [
    "# 把data数据框分成训练集，验证集，测试集数据框\n",
    "train_data = data.loc[np.where(data[\"动画年份\"] < val_year)[0],:].reset_index(drop=True)\n",
    "val_data = data.loc[np.where(data[\"动画年份\"] == val_year)[0],:].reset_index(drop=True)\n",
    "test_data = data.loc[np.where(data[\"动画年份\"] == test_year)[0],:].reset_index(drop=True)"
   ]
  },
  {
   "cell_type": "code",
   "execution_count": 14,
   "id": "5cf2b478-ea8b-4dc7-a63f-2501b98c75d1",
   "metadata": {},
   "outputs": [],
   "source": [
    "train_tag_set = set() # 训练集标签所组成的集合\n",
    "for i in range(len(train_data)):\n",
    "    one_line = train_data[\"动画标签\"][i][2:-2].split(\"\\', \\'\")\n",
    "    for tag in one_line:\n",
    "        train_tag_set.add(tag)\n",
    "        \n",
    "test_tag_set = set() # 测试集标签所组成的集合\n",
    "for i in range(len(test_data)):\n",
    "    one_line = test_data[\"动画标签\"][i][2:-2].split(\"\\', \\'\")\n",
    "    for tag in one_line:\n",
    "        test_tag_set.add(tag)\n",
    "\n",
    "hot_style_list = [] # 热门标签的列表\n",
    "\n",
    "with open(\"need_style_list_supplement.txt\",\"r\",encoding=\"utf-8\") as f: # 从外部引入1000个动画热门标签\n",
    "    length = int(f.readline().strip())\n",
    "    for i in range(length):\n",
    "        hot_style_list.append(f.readline().strip())\n",
    "        \n",
    "def judge(style): # 过滤器，目的是将首个字符为数字的标签删除，因为首字符为数字的标签往往标记的是年份\n",
    "    judge = True\n",
    "    number_set = set([\"0\",\"1\",\"2\",\"3\",\"4\",\"5\",\"6\",\"7\",\"8\",\"9\"])\n",
    "    if len(style)>0:\n",
    "        if style[0] in number_set:\n",
    "            judge = False\n",
    "    return judge\n",
    "        \n",
    "tag_set = set() # 最终选择的标签的集合\n",
    "for tag in test_tag_set:\n",
    "    if tag in train_tag_set and judge(tag) == True:\n",
    "        tag_set.add(tag)\n",
    "        \n",
    "for tag in hot_style_list:\n",
    "    if tag in train_tag_set and judge(tag) == True:\n",
    "        tag_set.add(tag)"
   ]
  },
  {
   "cell_type": "code",
   "execution_count": 15,
   "id": "e484776a-4b9e-47bb-8132-6cc5ef6079e8",
   "metadata": {},
   "outputs": [
    {
     "name": "stdout",
     "output_type": "stream",
     "text": [
      "标签的总数量: 1584\n"
     ]
    }
   ],
   "source": [
    "# 完成\"句子\"的生成\n",
    "sentences = [] # list[list[str(标签)]]\n",
    "for i in range(len(data)):\n",
    "    sentences.append([])\n",
    "    one_line = data[\"动画标签\"][i][2:-2].split(\"\\', \\'\")\n",
    "    for tag in one_line:\n",
    "        if tag in tag_set:\n",
    "            sentences[i].append(tag)\n",
    "\n",
    "tag_unique_list = list(tag_set) # 集合转列表\n",
    "tag2id = {tag_unique_list[i]:i for i in range(len(tag_unique_list))} # 需要考虑的标签 -> id\n",
    "id2tag = {i:tag_unique_list[i] for i in range(len(tag_unique_list))} # id -> 需要考虑的标签\n",
    "print(\"标签的总数量: %d\"%(len(tag_unique_list)))"
   ]
  },
  {
   "cell_type": "code",
   "execution_count": 16,
   "id": "48ffbd05-dc3a-4a4f-a439-a8cde8fd7ddf",
   "metadata": {},
   "outputs": [
    {
     "data": {
      "text/plain": [
       "[['国产', '剧场版', '电影', '童年', '动画电影', '幻想', '短片', '动画', '国产动画'],\n",
       " ['国产',\n",
       "  '上海美术电影制片厂',\n",
       "  '童年',\n",
       "  '短片',\n",
       "  '剧场版',\n",
       "  '国产动画',\n",
       "  '动画',\n",
       "  '中国',\n",
       "  '定格动画',\n",
       "  '剧场',\n",
       "  '奇幻']]"
      ]
     },
     "execution_count": 16,
     "metadata": {},
     "output_type": "execute_result"
    }
   ],
   "source": [
    "sentences[0:2]"
   ]
  },
  {
   "cell_type": "code",
   "execution_count": 17,
   "id": "9a60a96b-c8eb-4f2e-af43-0b01359905c9",
   "metadata": {},
   "outputs": [],
   "source": [
    "# 初始化标签的0-1矩阵\n",
    "tag_matrix = [[0 for _ in range(len(tag_unique_list))] for i in range(len(data))]\n",
    "for i in range(len(sentences)):\n",
    "    for tag in sentences[i]:\n",
    "        tag_matrix[i][tag2id[tag]] = 1\n",
    "tag_matrix = np.array(tag_matrix,dtype=np.int32)\n",
    "feature_matrix = np.concatenate((data[[\"原作评分\",\"导演标准分\",\"编剧标准分\",\"前作评分\",\"是否有前作\"]].values,tag_matrix),axis=1)"
   ]
  },
  {
   "cell_type": "code",
   "execution_count": 18,
   "id": "b5772fbc-b9ab-4306-94cc-4a3ea4b080d2",
   "metadata": {},
   "outputs": [
    {
     "name": "stdout",
     "output_type": "stream",
     "text": [
      "特征的总维度: 1589\n"
     ]
    }
   ],
   "source": [
    "print(\"特征的总维度: %d\"%(feature_matrix.shape[1]))"
   ]
  },
  {
   "cell_type": "code",
   "execution_count": 19,
   "id": "ae92a3ad-4012-401e-804a-df3ed60aba91",
   "metadata": {},
   "outputs": [],
   "source": [
    "anime2id = {data[\"动画名\"][i]:i for i in range(len(data))} # 动画名 -> id\n",
    "id2anime = {i:data[\"动画名\"][i] for i in range(len(data))} # id -> 动画名"
   ]
  },
  {
   "cell_type": "code",
   "execution_count": 20,
   "id": "ef99dd8b-7499-4b4a-b28c-bb57b384b37f",
   "metadata": {},
   "outputs": [],
   "source": [
    "# 准备图\n",
    "edge_list_source = []\n",
    "edge_list_target = []\n",
    "for edge in edge_list:\n",
    "    if data[\"动画年份\"][anime2id[edge[0]]] < data[\"动画年份\"][anime2id[edge[1]]]:\n",
    "        edge_list_source.append(anime2id[edge[0]])\n",
    "        edge_list_target.append(anime2id[edge[1]])\n",
    "edge_list_source = torch.tensor(edge_list_source,dtype=torch.int32)\n",
    "edge_list_target = torch.tensor(edge_list_target,dtype=torch.int32)\n",
    "\n",
    "g = dgl.graph((edge_list_source,edge_list_target),num_nodes=len(data),idtype=torch.int32)\n",
    "'''\n",
    "edge_list_source : 边从哪个节点来\n",
    "edge_list_target : 边到哪个节点去\n",
    "num_nodes : 总节点数\n",
    "idtype : 指定存储id使用的精度，这里采用int32\n",
    "'''\n",
    "g = dgl.add_self_loop(g) # 添加自连边\n",
    "g.ndata[\"features\"] = torch.tensor(feature_matrix,dtype=torch.float32) # 添加节点的特征，节点数量*特征数量的tensor\n",
    "g.ndata[\"y\"] = torch.tensor([1 if data[\"动画评分\"][i] > anime_median else 0 for i in range(len(data))],dtype=torch.float32) # 添加节点的y（预测目标）\n",
    "g.ndata[\"nid\"] = torch.tensor([i for i in range(len(data))],dtype=torch.int32) # 添加节点的nid（其实不一定要有），只是为了方便"
   ]
  },
  {
   "cell_type": "code",
   "execution_count": 21,
   "id": "dd9de790-bcd1-4dfa-9cda-8d78d1edb576",
   "metadata": {},
   "outputs": [],
   "source": [
    "sampler = dgl.dataloading.MultiLayerFullNeighborSampler(1) # 确定图的采样方法，这里的方法是采样一层图的所有邻居\n",
    "train_dataloader = dgl.dataloading.DataLoader( # dataloader\n",
    "    g, # 图\n",
    "    train_nids,  # 用于训练的结点id\n",
    "    sampler, # 给采样方法\n",
    "    batch_size=256, # batch_size，代表以多少个节点为中心开展采样\n",
    "    shuffle=True, # 每个epoch是否随机排序\n",
    "    drop_last=False, # 是否丢弃掉最后的节点（剩余节点数量不足batch_size时）\n",
    "    num_workers=4) # 线程数量\n",
    "\n",
    "val_dataloader = dgl.dataloading.DataLoader(\n",
    "    g, \n",
    "    val_nids, \n",
    "    sampler,\n",
    "    batch_size=256,\n",
    "    shuffle=True,\n",
    "    drop_last=False,\n",
    "    num_workers=4)"
   ]
  },
  {
   "cell_type": "code",
   "execution_count": 22,
   "id": "4ab6f0c1-3554-4a81-b0e7-15dacd84d5ea",
   "metadata": {},
   "outputs": [],
   "source": [
    "class Mymodel_onelayer(nn.Module):\n",
    "    def __init__(self, in_features, hidden_features):\n",
    "        '''\n",
    "        in_features: 输入特征的维度\n",
    "        hidden_features: \n",
    "        '''\n",
    "        super().__init__() # 父类初始化\n",
    "        self.conv1 = dgl.nn.pytorch.conv.SAGEConv(in_features, hidden_features , \"mean\",feat_drop=0.5)\n",
    "        '''\n",
    "        图神经网络层: GraphSAGE\n",
    "        每个节点的特征维度从in_features变为hidden_features\n",
    "        \"mean\"代表使用平均方法（GraphSAGE中还采用了其他方法，可供尝试）\n",
    "        feat_drop代表对初始的特征施加dropout的概率\n",
    "        如果想修改图神经网络层的细节，需要去SAGEConv类里看\n",
    "        '''\n",
    "        self.fc = nn.Sequential(\n",
    "            nn.Dropout(p=0.5),\n",
    "            nn.Linear(hidden_features+in_features, 512),\n",
    "            nn.ReLU(inplace=True),\n",
    "            nn.Dropout(p=0.5),\n",
    "            nn.Linear(512, 256),\n",
    "            nn.ReLU(inplace=True),\n",
    "            nn.Dropout(p=0.5),\n",
    "            nn.Linear(256, 1),\n",
    "            nn.Sigmoid()\n",
    "        )\n",
    "        '''\n",
    "        多层线性层，没有什么特别的\n",
    "        '''\n",
    "\n",
    "    def forward(self, blocks, x , output_features):\n",
    "        x = F.relu(self.conv1(blocks[0], x)) # 经过图神经网络层后，加一个激活函数\n",
    "        x = self.fc(torch.cat((x, output_features),dim=1)).squeeze(1) # 拼接由图神经网络层获得的邻居信息和自身的信息，进行最终的预测\n",
    "        return x"
   ]
  },
  {
   "cell_type": "code",
   "execution_count": 23,
   "id": "71ef48e7-78da-42da-acc1-09c5ec5d4bc5",
   "metadata": {},
   "outputs": [
    {
     "name": "stdout",
     "output_type": "stream",
     "text": [
      "epoch 10 : 训练集binary_cross_entropy : 0.6628 训练集auc : 0.7362 验证集binary_cross_entropy : 0.6748 验证集auc : 0.8958\n",
      "epoch 20 : 训练集binary_cross_entropy : 0.6286 训练集auc : 0.7993 验证集binary_cross_entropy : 0.6418 验证集auc : 0.8988\n",
      "epoch 30 : 训练集binary_cross_entropy : 0.5800 训练集auc : 0.8721 验证集binary_cross_entropy : 0.5876 验证集auc : 0.9062\n",
      "epoch 40 : 训练集binary_cross_entropy : 0.5345 训练集auc : 0.8687 验证集binary_cross_entropy : 0.5288 验证集auc : 0.9077\n",
      "epoch 50 : 训练集binary_cross_entropy : 0.4852 训练集auc : 0.8808 验证集binary_cross_entropy : 0.4713 验证集auc : 0.9077\n",
      "epoch 60 : 训练集binary_cross_entropy : 0.4477 训练集auc : 0.8866 验证集binary_cross_entropy : 0.4303 验证集auc : 0.9137\n",
      "epoch 70 : 训练集binary_cross_entropy : 0.4263 训练集auc : 0.8976 验证集binary_cross_entropy : 0.4083 验证集auc : 0.9182\n",
      "epoch 80 : 训练集binary_cross_entropy : 0.4206 训练集auc : 0.8963 验证集binary_cross_entropy : 0.3959 验证集auc : 0.9226\n",
      "epoch 90 : 训练集binary_cross_entropy : 0.4119 训练集auc : 0.8955 验证集binary_cross_entropy : 0.3856 验证集auc : 0.9226\n",
      "epoch 100 : 训练集binary_cross_entropy : 0.4032 训练集auc : 0.9036 验证集binary_cross_entropy : 0.3802 验证集auc : 0.9226\n",
      "epoch 110 : 训练集binary_cross_entropy : 0.3891 训练集auc : 0.9071 验证集binary_cross_entropy : 0.3707 验证集auc : 0.9256\n",
      "epoch 120 : 训练集binary_cross_entropy : 0.3773 训练集auc : 0.9154 验证集binary_cross_entropy : 0.3670 验证集auc : 0.9256\n",
      "epoch 130 : 训练集binary_cross_entropy : 0.3818 训练集auc : 0.9120 验证集binary_cross_entropy : 0.3692 验证集auc : 0.9256\n",
      "epoch 140 : 训练集binary_cross_entropy : 0.3822 训练集auc : 0.9084 验证集binary_cross_entropy : 0.3666 验证集auc : 0.9256\n",
      "epoch 150 : 训练集binary_cross_entropy : 0.3722 训练集auc : 0.9136 验证集binary_cross_entropy : 0.3588 验证集auc : 0.9256\n",
      "epoch 160 : 训练集binary_cross_entropy : 0.3786 训练集auc : 0.9124 验证集binary_cross_entropy : 0.3568 验证集auc : 0.9256\n",
      "epoch 170 : 训练集binary_cross_entropy : 0.3784 训练集auc : 0.9112 验证集binary_cross_entropy : 0.3583 验证集auc : 0.9241\n",
      "epoch 180 : 训练集binary_cross_entropy : 0.3658 训练集auc : 0.9189 验证集binary_cross_entropy : 0.3560 验证集auc : 0.9241\n",
      "epoch 190 : 训练集binary_cross_entropy : 0.3692 训练集auc : 0.9139 验证集binary_cross_entropy : 0.3522 验证集auc : 0.9271\n",
      "epoch 200 : 训练集binary_cross_entropy : 0.3780 训练集auc : 0.9079 验证集binary_cross_entropy : 0.3530 验证集auc : 0.9256\n",
      "epoch 210 : 训练集binary_cross_entropy : 0.3465 训练集auc : 0.9290 验证集binary_cross_entropy : 0.3500 验证集auc : 0.9286\n",
      "epoch 220 : 训练集binary_cross_entropy : 0.3623 训练集auc : 0.9202 验证集binary_cross_entropy : 0.3478 验证集auc : 0.9241\n",
      "epoch 230 : 训练集binary_cross_entropy : 0.3543 训练集auc : 0.9252 验证集binary_cross_entropy : 0.3463 验证集auc : 0.9271\n",
      "epoch 240 : 训练集binary_cross_entropy : 0.3427 训练集auc : 0.9315 验证集binary_cross_entropy : 0.3463 验证集auc : 0.9271\n",
      "epoch 250 : 训练集binary_cross_entropy : 0.3399 训练集auc : 0.9305 验证集binary_cross_entropy : 0.3386 验证集auc : 0.9315\n",
      "epoch 260 : 训练集binary_cross_entropy : 0.3499 训练集auc : 0.9289 验证集binary_cross_entropy : 0.3383 验证集auc : 0.9330\n",
      "epoch 270 : 训练集binary_cross_entropy : 0.3544 训练集auc : 0.9221 验证集binary_cross_entropy : 0.3353 验证集auc : 0.9330\n",
      "epoch 280 : 训练集binary_cross_entropy : 0.3525 训练集auc : 0.9214 验证集binary_cross_entropy : 0.3376 验证集auc : 0.9345\n",
      "epoch 290 : 训练集binary_cross_entropy : 0.3447 训练集auc : 0.9285 验证集binary_cross_entropy : 0.3357 验证集auc : 0.9315\n",
      "epoch 300 : 训练集binary_cross_entropy : 0.3438 训练集auc : 0.9282 验证集binary_cross_entropy : 0.3334 验证集auc : 0.9345\n"
     ]
    }
   ],
   "source": [
    "model = Mymodel_onelayer(feature_matrix.shape[1], feature_matrix.shape[1]).to(device) # 初始化模型，移动到gpu\n",
    "opt = torch.optim.Adam(model.parameters(),lr=5e-5,weight_decay=0.03) # 设置学习率，正则化参数\n",
    "best_val_score = 0 # 计算验证集上的最好结果\n",
    "best_model = None\n",
    "\n",
    "for epoch in range(300): # 300个epoch\n",
    "    model.train() # 使模型进入训练状态，启动dropout\n",
    "    train_loss = 0\n",
    "    train_predictions = []\n",
    "    train_labels = []\n",
    "    for input_nodes, output_nodes, blocks in train_dataloader:\n",
    "        '''\n",
    "        input_nodes : 输入的节点的nid, 长度一般比output_nodes长\n",
    "        output_nodes : 输出的节点的nid，长度等于batch_size\n",
    "        blocks : 图的列表，具体到这里，其实只给出了一张图，因为我们的图神经网络只有一层\n",
    "        '''\n",
    "        blocks = [b.to(device) for b in blocks] # 把图放进GPU\n",
    "        input_features = blocks[0].srcdata['features'] # 源节点的特征\n",
    "        output_features = blocks[-1].dstdata['features'] # 目标节点的特征\n",
    "        output_y = blocks[-1].dstdata['y'] # 存在目标节点上的y\n",
    "        output_predictions = model(blocks, input_features, output_features) # 计算预测值\n",
    "        loss = F.binary_cross_entropy(output_predictions, output_y) # loss\n",
    "        opt.zero_grad() # 优化器梯度清空\n",
    "        loss.backward() # 反向传播\n",
    "        opt.step() # 优化\n",
    "        train_loss += loss.item() * len(output_y)\n",
    "        train_predictions.append(output_predictions.detach().cpu().numpy())\n",
    "        train_labels.append(output_y.detach().cpu().numpy())\n",
    "    train_loss /= len(train_nids)\n",
    "    train_predictions = np.concatenate(train_predictions)\n",
    "    train_labels = np.concatenate(train_labels)\n",
    "    fpr,tpr,threshold = roc_curve(train_labels,train_predictions,pos_label=1) #计算真正率和假正率\n",
    "    train_score = auc(fpr,tpr) #计算auc的值\n",
    "    model.eval() # 使模型进入验证状态，关闭dropout\n",
    "    with torch.no_grad():\n",
    "        val_loss = 0\n",
    "        val_predictions = []\n",
    "        val_labels = []\n",
    "        for input_nodes, output_nodes, blocks in val_dataloader:\n",
    "            blocks = [b.to(device) for b in blocks]\n",
    "            input_features = blocks[0].srcdata['features']\n",
    "            output_features = blocks[-1].dstdata['features']\n",
    "            output_y = blocks[-1].dstdata['y']\n",
    "            output_predictions = model(blocks, input_features, output_features)\n",
    "            loss = F.binary_cross_entropy(output_predictions, output_y)\n",
    "            val_loss += loss.item() * len(output_y)\n",
    "            val_predictions.append(output_predictions.cpu().numpy())\n",
    "            val_labels.append(output_y.cpu().numpy())\n",
    "        val_loss /= len(val_nids)\n",
    "        val_predictions = np.concatenate(val_predictions)\n",
    "        val_labels = np.concatenate(val_labels)\n",
    "        fpr,tpr,threshold = roc_curve(val_labels,val_predictions,pos_label=1) #计算真正率和假正率\n",
    "        val_score = auc(fpr,tpr) #计算auc的值\n",
    "        if val_score > best_val_score:\n",
    "            best_val_score = val_score\n",
    "#             torch.save(model,\"best_model\")\n",
    "    if (epoch+1) % 10 == 0:\n",
    "        print(\"epoch %d :\"%(epoch+1),end=\" \")\n",
    "        print(\"训练集binary_cross_entropy : %.4f\"%(train_loss),end=\" \")\n",
    "        print(\"训练集auc : %.4f\"%(train_score),end=\" \")\n",
    "        print(\"验证集binary_cross_entropy : %.4f\"%(val_loss),end=\" \")\n",
    "        print(\"验证集auc : %.4f\"%(val_score))"
   ]
  },
  {
   "cell_type": "code",
   "execution_count": 24,
   "id": "efdafe4b-22ea-45bd-ad71-f712682956db",
   "metadata": {},
   "outputs": [],
   "source": [
    "test_dataloader = dgl.dataloading.DataLoader(\n",
    "    g, \n",
    "    test_nids, \n",
    "    sampler,\n",
    "    batch_size=256,\n",
    "    shuffle=True,\n",
    "    drop_last=False,\n",
    "    num_workers=4)"
   ]
  },
  {
   "cell_type": "code",
   "execution_count": 25,
   "id": "757bcdde-d67d-4815-acdf-328d16740dee",
   "metadata": {},
   "outputs": [],
   "source": [
    "# model = torch.load(\"best_model\")"
   ]
  },
  {
   "cell_type": "code",
   "execution_count": 26,
   "id": "018c77ff-9137-4851-bfec-d2bf3ae7471a",
   "metadata": {},
   "outputs": [],
   "source": [
    "def ROC(y_true,y_pre,model_name):\n",
    "    fpr,tpr,threshold = roc_curve(y_true,y_pre,pos_label=1) #计算真正率和假正率\n",
    "    roc_auc = auc(fpr,tpr) #计算auc的值\n",
    "    plt.figure()\n",
    "    lw = 2\n",
    "    plt.figure(figsize=(10,10))\n",
    "    plt.plot(fpr, tpr, color='darkorange',\n",
    "             lw=lw, label='ROC Curve (AUC = %0.2f)' % roc_auc) \n",
    "    plt.plot([0, 1], [0, 1], color='navy', lw=lw, linestyle='--')\n",
    "    plt.xlim([-0.05, 1.05])\n",
    "    plt.ylim([-0.05, 1.05])\n",
    "    plt.xticks([0,0.2,0.4,0.6,0.8,1.0],fontsize=20)\n",
    "    plt.yticks([0,0.2,0.4,0.6,0.8,1.0],fontsize=20)\n",
    "    plt.xlabel('False Positive Rate',fontsize=25)\n",
    "    plt.ylabel('True Positive Rate',fontsize=25)\n",
    "    plt.title('ROC curve of {}'.format(model_name),fontsize=25)\n",
    "    plt.legend(loc=\"lower right\",fontsize=20)\n",
    "    plt.show()"
   ]
  },
  {
   "cell_type": "code",
   "execution_count": 27,
   "id": "83f8900b-0d14-4430-bdd0-d8ff40ce23f8",
   "metadata": {
    "tags": []
   },
   "outputs": [
    {
     "name": "stdout",
     "output_type": "stream",
     "text": [
      "测试集binary_cross_entropy : 0.3334\n",
      "测试集auc : 0.9345\n"
     ]
    },
    {
     "data": {
      "text/plain": [
       "<Figure size 432x288 with 0 Axes>"
      ]
     },
     "metadata": {},
     "output_type": "display_data"
    },
    {
     "data": {
      "image/png": "[encoded data removed]",
      "text/plain": [
       "<Figure size 720x720 with 1 Axes>"
      ]
     },
     "metadata": {
      "needs_background": "light"
     },
     "output_type": "display_data"
    }
   ],
   "source": [
    "model.eval()\n",
    "with torch.no_grad():\n",
    "    test_loss = 0\n",
    "    test_predictions = []\n",
    "    test_labels = []\n",
    "    for input_nodes, output_nodes, blocks in test_dataloader:\n",
    "        blocks = [b.to(device) for b in blocks]\n",
    "        input_features = blocks[0].srcdata['features']\n",
    "        output_features = blocks[-1].dstdata['features']\n",
    "        output_y = blocks[-1].dstdata['y']\n",
    "        output_predictions = model(blocks, input_features, output_features)\n",
    "        loss = F.binary_cross_entropy(output_predictions, output_y)\n",
    "        test_loss += loss.item() * len(output_y)\n",
    "        \n",
    "        test_predictions.append(output_predictions.cpu().numpy())\n",
    "        test_labels.append(output_y.cpu().numpy())\n",
    "    test_loss /= len(test_nids)\n",
    "    test_predictions = np.concatenate(test_predictions)\n",
    "    test_labels = np.concatenate(test_labels)\n",
    "    fpr,tpr,threshold = roc_curve(test_labels,test_predictions,pos_label=1) #计算真正率和假正率\n",
    "    test_score = auc(fpr,tpr) #计算auc的值\n",
    "    print(\"测试集binary_cross_entropy : %.4f\"%(test_loss))\n",
    "    print(\"测试集auc : %.4f\"%(test_score))\n",
    "    ROC(test_labels,test_predictions,\"anime predict\")"
   ]
  },
  {
   "cell_type": "code",
   "execution_count": 28,
   "id": "dfb32534-553a-4ffd-a40c-7bee01392d24",
   "metadata": {},
   "outputs": [],
   "source": [
    "# 2018 0.8466\n",
    "# 2019 0.8758\n",
    "# 2020 0.8460\n",
    "# 2021 0.8377\n",
    "# 平均 0.8515"
   ]
  },
  {
   "cell_type": "code",
   "execution_count": 29,
   "id": "5abf825c-ad8a-4a29-a87b-c8cb10ad041f",
   "metadata": {},
   "outputs": [],
   "source": [
    "final_dataloader = dgl.dataloading.DataLoader(\n",
    "    g, \n",
    "    final_nids, \n",
    "    sampler,\n",
    "    batch_size=256,\n",
    "    shuffle=True,\n",
    "    drop_last=False,\n",
    "    num_workers=4)\n",
    "model.eval()\n",
    "with torch.no_grad():\n",
    "    final_nid = []\n",
    "    final_predictions = []\n",
    "    for input_nodes, output_nodes, blocks in final_dataloader:\n",
    "        blocks = [b.to(device) for b in blocks]\n",
    "        input_features = blocks[0].srcdata['features']\n",
    "        output_features = blocks[-1].dstdata['features']\n",
    "        output_y = blocks[-1].dstdata['y']\n",
    "        output_predictions = model(blocks, input_features, output_features)\n",
    "        loss = F.mse_loss(output_y, output_predictions)\n",
    "        final_predictions.append(output_predictions.cpu().numpy())\n",
    "        final_nid.append(output_nodes.cpu().numpy())\n",
    "    final_predictions = np.concatenate(final_predictions)\n",
    "    final_nid = np.concatenate(final_nid)\n",
    "    final_name = [data[\"动画名\"][nid] for nid in final_nid]\n",
    "    final_raters = [data[\"想看人数\"][nid] for nid in final_nid]\n",
    "    final_judge = [1 if final_predictions[i] > 0.5 else 0 for i in range(len(final_predictions))]\n",
    "    final_anime_id = [data[\"动画ID\"][nid] for nid in final_nid]\n",
    "final_dataframe = pd.DataFrame({\"位置\":final_nid,\"动画名\":final_name,\"动画ID\":final_anime_id,\"预测值\":final_predictions,\"想看人数\":final_raters,\"判断是否为好片\":final_judge})\n",
    "final_dataframe = final_dataframe.sort_values(by=\"预测值\",ascending=False).reset_index(drop=True)"
   ]
  },
  {
   "cell_type": "code",
   "execution_count": 30,
   "id": "5433d1a5-a991-404b-b000-1cbf995a6385",
   "metadata": {},
   "outputs": [],
   "source": [
    "april_anime = {354246,354682,364686,376215,331946,329285,314366,329906,279321,284510,367727,363880,317613,351973,333176,365297,354700,333664,313852,353906,337459,371892,366253,356763,327606,372925,353266,361697,326895,351943,332585,302128,355072,356756,347140,334498,333624,375772,349465,339998,377421,345705,335579,359980,320238,359527,326871,309092,376676,334203,353657,363242,324295,330055,366780,351714,359930,358571,376673,363959,376674,376666,345868,375918,375813,332446,347818,374807,320236,376670,363414,268449,310263,349443,317042,289906,338653,366897,347953,376675,358754,362997,375987,361384,343656,333448,334319,377133,359589,371822,370427,361280,277369,304727,331489,312437,328197,284524,340677,361385,372317,367726,377811,354630,374002,277037,376147,375739,347888,303126,372472,341657,349442,377273}\n",
    "july_anime = {331479,375817,368816,375531,293008,338371,324728,375977,364845,330057,192976,371546,356774,375511,335389,349388,354414,349084,357754,298654,326874,355342,345649,375571,366793,298477,371396,354146,364450,253047,366566,286126,377812,315745,352336,262898,339916,303195,365705,339326,322130,348538,326869,316131,373710,368617,358803,343136,286127,317376,356658,332133,312297,331652,368456,365706,345761}"
   ]
  },
  {
   "cell_type": "code",
   "execution_count": 31,
   "id": "66f8a921-fc70-49c8-8c75-88816eaac0ab",
   "metadata": {},
   "outputs": [],
   "source": [
    "instead_of_dictionary = {} # 同义替换词 被替换词->替换词\n",
    "with open(\"instead_of.txt\",\"r\",encoding=\"utf-8\") as f:\n",
    "    line = f.readline()\n",
    "    while line:\n",
    "        line = line.strip()\n",
    "        if line != \"\":\n",
    "            temp = line.split(\"：\")\n",
    "            instead_of_dictionary[temp[0]] = temp[1]\n",
    "        line = f.readline()"
   ]
  },
  {
   "cell_type": "code",
   "execution_count": 32,
   "id": "83f09d92-3ffa-420f-970e-8cf2768334b6",
   "metadata": {},
   "outputs": [],
   "source": [
    "def to_set(x,instead_of_dictionary):\n",
    "    if x == \"[]\":\n",
    "        return set()\n",
    "    else:\n",
    "        temp_list = [instead_of_dictionary[tag] if tag in instead_of_dictionary else tag for tag in x[2:-2].split(\"\\', \\'\")]\n",
    "        return set(temp_list)\n",
    "    \n",
    "def to_list(x,instead_of_dictionary):\n",
    "    if x == \"[]\":\n",
    "        return list()\n",
    "    else:\n",
    "        temp_list = [instead_of_dictionary[tag] if tag in instead_of_dictionary else tag for tag in x[2:-2].split(\"\\', \\'\")]\n",
    "        return list(set(temp_list))\n",
    "    \n",
    "def tag_in_set(x,tag):\n",
    "    return int(tag in x)\n",
    "\n",
    "def sort_list(x,future_tag_dict):\n",
    "    return sorted(x,key=lambda x:future_tag_dict[x][\"p_value\"])\n",
    "\n",
    "now_data = data.loc[np.where(data[\"动画年份\"] < predict_year)[0],:].copy()\n",
    "now_data[\"动画标签集合\"] = now_data[\"动画标签\"].apply(to_set,args=[instead_of_dictionary])"
   ]
  },
  {
   "cell_type": "code",
   "execution_count": 33,
   "id": "2ba20e83-abf7-46f9-815d-ee32dd3f4d40",
   "metadata": {},
   "outputs": [],
   "source": [
    "future_data = data.loc[np.where(data[\"动画年份\"] == predict_year)[0],:].copy().reset_index(drop=True)\n",
    "future_data[\"动画标签列表\"] = future_data[\"动画标签\"].apply(to_list,args=[instead_of_dictionary])\n",
    "future_tag = list(set([tag for i in range(len(future_data)) for tag in future_data[\"动画标签列表\"][i]]))"
   ]
  },
  {
   "cell_type": "code",
   "execution_count": 34,
   "id": "3c5f389d-7ed8-44a6-bef9-0f45ba3261c2",
   "metadata": {},
   "outputs": [],
   "source": [
    "import statsmodels.api as sm\n",
    "future_tag_dict = {tag:{\"p_value\":1,\"coefficient\":0} for tag in future_tag}\n",
    "for tag in future_tag:\n",
    "    X = now_data[\"动画标签集合\"].apply(tag_in_set,args=[tag])\n",
    "    X = sm.add_constant(X)\n",
    "    X.columns = [\"const\",tag]\n",
    "    mymodel = sm.OLS(now_data[\"动画评分\"], X)\n",
    "    results = mymodel.fit()\n",
    "    if np.isnan(results.pvalues[tag]) == False:\n",
    "        future_tag_dict[tag][\"p_value\"] = results.pvalues[tag]\n",
    "        future_tag_dict[tag][\"coefficient\"] = results.params[tag]"
   ]
  },
  {
   "cell_type": "code",
   "execution_count": 35,
   "id": "55716390-db11-460f-9143-2be53e73be77",
   "metadata": {},
   "outputs": [],
   "source": [
    "future_data[\"动画标签列表\"] = future_data[\"动画标签列表\"].apply(sort_list,args=[future_tag_dict])"
   ]
  },
  {
   "cell_type": "code",
   "execution_count": 36,
   "id": "a53c7d26-7a7d-4cee-b878-8e0077e32aae",
   "metadata": {},
   "outputs": [
    {
     "name": "stdout",
     "output_type": "stream",
     "text": [
      "四月TV动画预测：\n",
      "Rank 1 : \n",
      "辉夜大小姐想让我告白-Ultra Romantic-\n",
      "青春↑ 漫画改↑ 日常↑ 续作↑ 恋爱 \n",
      "\n",
      "Rank 2 : \n",
      "街角魔族 2丁目\n",
      "漫画改↑ 日常↑ 续作↑ 芳文社↑ 小原好美 \n",
      "\n",
      "Rank 3 : \n",
      "王者天下 第四季\n",
      "漫画改↑ 热血↑ 战争↑ 续作↑ 历史↑ \n",
      "\n",
      "Rank 4 : \n",
      "古见同学有交流障碍症 第二季\n",
      "漫画改↑ 日常↑ 续作↑ 梶原岳人↓ 三重野瞳↓ \n",
      "\n",
      "Rank 5 : \n",
      "小书痴的下克上～为了成为图书管理员而不择手段～ 第3部\n",
      "治愈↑ 励志↑ 异世界↓ 日常↑ 小说改↓ \n",
      "\n",
      "Rank 6 : \n",
      "Love Live! 虹咲学园校园偶像同好会 第二季\n",
      "SUNRISE↑ 续作↑ 田中仁 楠木灯 原创 \n",
      "\n",
      "Rank 7 : \n",
      "攻壳机动队 SAC_2045 第二季\n",
      "漫画改↑ 科幻↑ Production.IG↑ Production.I.G↑ 攻壳机动队↑ \n",
      "\n",
      "Rank 8 : \n",
      "TIGER & BUNNY 第二季\n",
      "科幻↑ SUNRISE↑ 网飞↓ 基 津田健次郎 \n",
      "\n",
      "Rank 9 : \n",
      "魔法纪录 魔法少女小圆外传 Final SEASON -浅梦的黎明-\n",
      "游戏改↓ 新房昭之↑ SHAFT↑ 战斗↓ 续作↑ \n",
      "\n",
      "Rank 10 : \n",
      "键等 第二季\n",
      "游戏改↓ 泡面番↓ LIDENFILMS↓ 续作↑ 杉田智和 \n",
      "\n",
      "Rank 11 : \n",
      "境界战机 第二部\n",
      "SUNRISE↑ 辱华↓ 上村佑翔↓ 藤原夏海↓ 萝卜↑ \n",
      "\n",
      "Rank 12 : \n",
      "理科生坠入情网故尝试证明[r=1-sinθ ]❤\n",
      "漫画改↑ 日常↑ 续作↑ 内田雄马↓ 雨宫天↓ \n",
      "\n",
      "Rank 13 : \n",
      "真·一骑当千\n",
      "卖肉↓ 漫画改↑ Arms↓ 佐藤光敏↓ 甲斐田裕子 \n",
      "\n",
      "Rank 14 : \n",
      "盾之勇者成名录 第二季\n",
      "后宫↓ 龙傲天↓ 异世界↓ 战斗↓ 小说改↓ \n",
      "\n",
      "Rank 15 : \n",
      "约会大作战 第四季\n",
      "后宫↓ 角川爆破↓ 科幻↑ 战斗↓ 小说改↓ \n",
      "\n",
      "Rank 16 : \n",
      "影之诗F\n",
      "ZEXCS↓ 矶崎轮太郎↓ 上村佑翔↓ 三重野瞳↓ 川口敬一郎 \n",
      "\n"
     ]
    }
   ],
   "source": [
    "future_data.index = future_data[\"动画ID\"]\n",
    "p_value_threshold = 0.01\n",
    "ban_set = {\"动画\",\"日本动画\",\"日本\",\"TV\",\"剧场版\",\"OVA\",\"WEB\",\"未确定\",\"未开播\",\"TVA\",\"待上映\",\"新番\",\"可独立观赏\",\"？\",\"映画\",\"总集篇\",\"追番\",\"动画电影\",\"『TVA』\",\"优先级X\",\"春季番\",\"霸权\",\"动画史上绝无仅有的神作\"}\n",
    "print_anime_count = 0\n",
    "print(\"四月TV动画预测：\")\n",
    "for i in range(len(final_dataframe)):\n",
    "    if final_dataframe[\"动画ID\"][i] in april_anime and data[\"TV\"][final_dataframe[\"位置\"][i]] == 1:\n",
    "        print(\"Rank {} : \".format(print_anime_count+1))\n",
    "        print_anime_count += 1\n",
    "        print(final_dataframe[\"动画名\"][i],end=\"\\n\")\n",
    "        print_tag_count = 0\n",
    "        for j in range(len(future_data[\"动画标签列表\"][final_dataframe[\"动画ID\"][i]])):\n",
    "            if print_tag_count >= 5:\n",
    "                break\n",
    "            if future_data[\"动画标签列表\"][final_dataframe[\"动画ID\"][i]][j] in ban_set or judge(future_data[\"动画标签列表\"][final_dataframe[\"动画ID\"][i]][j]) == False:\n",
    "                continue\n",
    "            print(\"{}\".format(future_data[\"动画标签列表\"][final_dataframe[\"动画ID\"][i]][j]),end=\"\")\n",
    "            print_tag_count += 1\n",
    "            if future_tag_dict[future_data[\"动画标签列表\"][final_dataframe[\"动画ID\"][i]][j]][\"p_value\"] < p_value_threshold:\n",
    "                if future_tag_dict[future_data[\"动画标签列表\"][final_dataframe[\"动画ID\"][i]][j]][\"coefficient\"] > 0:\n",
    "                    print(\"↑\",end=\" \")\n",
    "                else:\n",
    "                    print(\"↓\",end=\" \")\n",
    "            else:\n",
    "                print(\"\",end=\" \")\n",
    "        print(\"\\n\")"
   ]
  },
  {
   "cell_type": "code",
   "execution_count": 37,
   "id": "86299993-60c8-49f0-8336-23c741c7e1fe",
   "metadata": {},
   "outputs": [
    {
     "name": "stdout",
     "output_type": "stream",
     "text": [
      "七月TV动画预测：\n",
      "Rank 1 : \n",
      "来自深渊 烈日的黄金乡\n",
      "漫画改↑ 致郁↑ 续作↑ 奇幻↓ 来自深渊 \n",
      "\n",
      "Rank 2 : \n",
      "邪神与厨二病少女 X\n",
      "漫画改↑ 日常↑ 续作↑ 萌 轻百合 \n",
      "\n",
      "Rank 3 : \n",
      "影宅 第二季\n",
      "漫画改↑ 奇幻↓ 佐仓绫音 末广健一郎 CloverWorks \n",
      "\n",
      "Rank 4 : \n",
      "新石纪 龙水\n",
      "漫画改↑ 热血↑ 科幻↑ JUMP↑ 小林裕介↓ \n",
      "\n",
      "Rank 5 : \n",
      "Love Live! Superstar!! 第二季\n",
      "SUNRISE↑ 续作↑ 花田十辉 原创 偶像 \n",
      "\n",
      "Rank 6 : \n",
      "传颂之物 二人的白皇\n",
      "游戏改↓ 续作↑ 水濑祈 WHITEFOX 川村贤一 \n",
      "\n",
      "Rank 7 : \n",
      "打工吧！！魔王大人\n",
      "龙傲天↓ 战斗↓ 小说改↓ 穿越↓ 逢坂良太↓ \n",
      "\n",
      "Rank 8 : \n",
      "新网球王子 U-17 WORLD CUP\n",
      "漫画改↑ 广田光毅↓ 川口敬一郎 M.S.C 皆川纯子 \n",
      "\n",
      "Rank 9 : \n",
      "欢迎来到实力至上主义教室 第二季\n",
      "青春↑ 装逼↓ 智斗↑ 小说改↓ 续作↑ \n",
      "\n",
      "Rank 10 : \n",
      "在地下城寻求邂逅是否搞错了什么 Ⅳ 新章 迷宫篇\n",
      "治愈↑ 后宫↓ 松冈祯丞↓ 异世界↓ 战斗↓ \n",
      "\n",
      "Rank 11 : \n",
      "租借女友 第二季\n",
      "后宫↓ 漫画改↑ 日常↑ 堀江瞬↓ 续作↑ \n",
      "\n",
      "Rank 12 : \n",
      "OVERLORD IV\n",
      "龙傲天↓ 异世界↓ 战斗↓ MADHouse↑ 装逼↓ \n",
      "\n"
     ]
    }
   ],
   "source": [
    "print(\"七月TV动画预测：\")\n",
    "print_anime_count = 0\n",
    "for i in range(len(final_dataframe)):\n",
    "    if final_dataframe[\"动画ID\"][i] in july_anime and data[\"TV\"][final_dataframe[\"位置\"][i]] == 1:\n",
    "        print(\"Rank {} : \".format(print_anime_count+1))\n",
    "        print_anime_count += 1\n",
    "        print(final_dataframe[\"动画名\"][i],end=\"\\n\")\n",
    "        print_tag_count = 0\n",
    "        for j in range(len(future_data[\"动画标签列表\"][final_dataframe[\"动画ID\"][i]])):\n",
    "            if print_tag_count >= 5:\n",
    "                break\n",
    "            if future_data[\"动画标签列表\"][final_dataframe[\"动画ID\"][i]][j] in ban_set or judge(future_data[\"动画标签列表\"][final_dataframe[\"动画ID\"][i]][j]) == False:\n",
    "                continue\n",
    "            print(\"{}\".format(future_data[\"动画标签列表\"][final_dataframe[\"动画ID\"][i]][j]),end=\"\")\n",
    "            print_tag_count += 1\n",
    "            if future_tag_dict[future_data[\"动画标签列表\"][final_dataframe[\"动画ID\"][i]][j]][\"p_value\"] < p_value_threshold:\n",
    "                if future_tag_dict[future_data[\"动画标签列表\"][final_dataframe[\"动画ID\"][i]][j]][\"coefficient\"] > 0:\n",
    "                    print(\"↑\",end=\" \")\n",
    "                else:\n",
    "                    print(\"↓\",end=\" \")\n",
    "            else:\n",
    "                print(\"\",end=\" \")\n",
    "        print(\"\\n\")"
   ]
  }
 ],
 "metadata": {
  "kernelspec": {
   "display_name": "Python [conda env:linzhongtan]",
   "language": "python",
   "name": "conda-env-linzhongtan-py"
  },
  "language_info": {
   "codemirror_mode": {
    "name": "ipython",
    "version": 3
   },
   "file_extension": ".py",
   "mimetype": "text/x-python",
   "name": "python",
   "nbconvert_exporter": "python",
   "pygments_lexer": "ipython3",
   "version": "3.6.9"
  }
 },
 "nbformat": 4,
 "nbformat_minor": 5
}
